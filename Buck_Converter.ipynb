{
  "nbformat": 4,
  "nbformat_minor": 0,
  "metadata": {
    "colab": {
      "name": "Buck_Converter.ipynb",
      "version": "0.3.2",
      "provenance": [],
      "collapsed_sections": [],
      "include_colab_link": true
    },
    "kernelspec": {
      "name": "python3",
      "display_name": "Python 3"
    }
  },
  "cells": [
    {
      "cell_type": "markdown",
      "metadata": {
        "id": "view-in-github",
        "colab_type": "text"
      },
      "source": [
        "<a href=\"https://colab.research.google.com/github/asokraju/Control-Systems/blob/master/Buck_Converter.ipynb\" target=\"_parent\"><img src=\"https://colab.research.google.com/assets/colab-badge.svg\" alt=\"Open In Colab\"/></a>"
      ]
    },
    {
      "cell_type": "markdown",
      "metadata": {
        "id": "eYhXuTb1gsw6",
        "colab_type": "text"
      },
      "source": [
        "# Control of buck converter\n",
        "\n",
        "In this script, we simulate the input shaping controllers proposed in [Differentiation and Passivity for Control of Brayton-Moser Systems](https://arxiv.org/abs/1811.02838)"
      ]
    },
    {
      "cell_type": "code",
      "metadata": {
        "id": "EtYu5kRdho2k",
        "colab_type": "code",
        "colab": {}
      },
      "source": [
        "import numpy as np\n",
        "import matplotlib.pyplot as plt\n",
        "from scipy.integrate import odeint\n",
        "import pandas as pd\n",
        "import seaborn as sns"
      ],
      "execution_count": 0,
      "outputs": []
    },
    {
      "cell_type": "markdown",
      "metadata": {
        "id": "sTkB4aHug6o0",
        "colab_type": "text"
      },
      "source": [
        "The dynamics of the Buck converter are:\n",
        "\\begin{align}\n",
        "-L\\dot{I} &= RI+V-uV_s\\\\\n",
        "C\\dot{V} &= I-GV\n",
        "\\end{align}\n",
        "\n",
        "The proposed controller for this system is:\n",
        "\\begin{align}\n",
        "-k_d \\dot{u} &= k_i(u-u_d)+V_s \\dot{I}\n",
        "\\end{align}"
      ]
    },
    {
      "cell_type": "code",
      "metadata": {
        "id": "MTGvPvyBg7RM",
        "colab_type": "code",
        "outputId": "2e403cdb-194f-4da7-fd8f-eca8f28a8fcf",
        "colab": {
          "base_uri": "https://localhost:8080/",
          "height": 51
        }
      },
      "source": [
        "#@title ##Use slider to change the parameters\n",
        "\n",
        "#@markdown ---\n",
        "\n",
        "#@markdown ###System Parameters (Units in milli).\n",
        "Capacitance = 1 #@param {type:\"slider\", min:1, max:100, step:0.1}\n",
        "Inductance = 1 #@param {type:\"slider\", min:1, max:100, step:0.1}\n",
        "\n",
        "Resistance = 0 #@param {type:\"slider\", min:0, max:100, step:0.1}\n",
        "load = 40 #@param {type:\"slider\", min:1, max:100, step:0.1}\n",
        "\n",
        "#@markdown Voltage Source.\n",
        "Vs = 380 #@param {type:\"slider\", min:100, max:500, step:10}\n",
        "\n",
        "#@markdown Desired Voltage.\n",
        "Vd = 280 #@param {type:\"slider\", min: 100, max:500, step:10}\n",
        "\n",
        "#@markdown ---\n",
        "#@markdown Initial conditions.\n",
        "current = -45.9 #@param {type:\"slider\", min:-500, max:500, step:0.1}\n",
        "voltage = 191.2 #@param {type:\"slider\", min:0.0, max:500, step:0.1}\n",
        "duty_ratio = 0.49 #@param {type:\"slider\", min:0.01, max:0.99, step:0.01}\n",
        "#@markdown ---\n",
        "#@markdown ---\n",
        "#@markdown Simulation parameters.\n",
        "Simulation_time = 4.45 #@param {type:\"slider\", min:0.01, max:10, step:0.01}\n",
        "perturbation_time = 4.19 #@param {type:\"slider\", min:0.01, max:10, step:0.01}\n",
        "load_new = 80 #@param {type:\"slider\", min:1, max:100, step:0.1}\n",
        "\n",
        "#@markdown #### At time t = perturbation_time, the load has been changed from \n",
        "C = Capacitance*1e-3\n",
        "L = Inductance*1e-3\n",
        "R = Resistance*1e-3\n",
        "G = load*1e-3\n",
        "G_new = load_new*1e-3\n",
        "\n",
        "print('The simulation will be conducted for a total of {} milli seconds'.format(Simulation_time))\n",
        "print('At time t = {} milli seconds, the load will be changed from {} to {}'.format(perturbation_time, G, G_new))\n"
      ],
      "execution_count": 0,
      "outputs": [
        {
          "output_type": "stream",
          "text": [
            "The simulation will be conducted for a total of 4.45 milli seconds\n",
            "At time t = 4.19 milli seconds, the load will be changed from 0.04 to 0.08\n"
          ],
          "name": "stdout"
        }
      ]
    },
    {
      "cell_type": "code",
      "metadata": {
        "id": "HWzv5xpThHSu",
        "colab_type": "code",
        "colab": {}
      },
      "source": [
        "# system parameters\n",
        "#L, C = 0.001,0.001\n",
        "#R, G = 0,0.04\n",
        "#Vs = 400\n",
        "\n",
        "# tuning params for the controller\n",
        "#kd, ki = 1.6e5, 80e6\n",
        "#@markdown Tuning Parameters (units 10^6).\n",
        "Kd = 0.16 #@param {type:\"slider\", min:0.1, max:100, step:0.01}\n",
        "Ki = 80 #@param {type:\"slider\", min:0.1, max:100, step:0.01}\n",
        "\n",
        "kd, ki = Kd*1e6, Ki*1e6\n",
        "# desired operating point\n",
        "#Vd= 380\n",
        "ud = Vd/Vs\n",
        "Id = G*Vd\n",
        "\n",
        "\n",
        "# function that returns dy/dt\n",
        "def model(y,t):\n",
        "  '''This contains the closed loop system dynamics, i.e., the system dynamics together with controller dynamics'''\n",
        "  u,i,v=y[0],y[1],y[2]\n",
        "  #model\n",
        "  if t>0.1:\n",
        "    'To verify the robustness we are changing the load at time t = 0.3'\n",
        "    G_load = G_new\n",
        "  else:\n",
        "    G_load = G\n",
        "  didt = -(1/L)*(R*i+v-u*Vs)\n",
        "  dvdt = (1/C)*(i-G_load*v)\n",
        "  # dynamic controller\n",
        "  dudt = -(1/kd)*(ki*(u-ud)+Vs*didt)\n",
        "  dydt=[dudt, didt,dvdt]\n",
        "  return dydt\n",
        "# initial condition\n",
        "#y0 = [.1,22.5,100]\n",
        "y0 = [duty_ratio, current, voltage]\n",
        "\n",
        "# time points\n",
        "t = np.linspace(0,.2,1000)\n",
        "\n",
        "# solve ODE\n",
        "y = odeint(model,y0,t)\n"
      ],
      "execution_count": 0,
      "outputs": []
    },
    {
      "cell_type": "code",
      "metadata": {
        "id": "De-56AlIhjZ1",
        "colab_type": "code",
        "outputId": "f9cc150a-75d2-49ff-a36a-bd574c11ba51",
        "colab": {
          "base_uri": "https://localhost:8080/",
          "height": 308
        }
      },
      "source": [
        "fig, axes = plt.subplots(nrows=1, ncols=3, figsize=(18, 4))\n",
        "axes[0].plot(t,y[:,0], color = 'darkblue')\n",
        "axes[0].plot(t,np.full(np.shape(t),ud),linestyle='dashed', color = 'red')\n",
        "axes[0].legend(['u(t)','$u_d$'],loc='lower right')\n",
        "\n",
        "axes[1].plot(t,y[:,1], color = 'darkblue')\n",
        "def fun(time):\n",
        "  '''list comprehension to encorporate the change in the desired values'''\n",
        "  if time > .1:\n",
        "      return Vd*0.08\n",
        "  else:\n",
        "      return Vd*0.04\n",
        "axes[1].plot(t,[fun(time) for time in t],linestyle='dashed', color = 'red')\n",
        "axes[1].legend(['I(t)','$I_d$'],loc='lower right')\n",
        "\n",
        "axes[2].plot(t,y[:,2], color = 'darkblue')\n",
        "axes[2].plot(t,np.full(np.shape(t),Vd),linestyle='dashed', color = 'red')\n",
        "axes[2].legend(['V(t)','$V_d$'],loc='lower right')\n",
        "\n",
        "axes[0].set_title(\"Duty-ratio\")\n",
        "axes[1].set_title(\"Current\")\n",
        "axes[2].set_title(\"Voltage\")\n",
        "\n",
        "axes[0].set_xlabel(\"time\")\n",
        "axes[1].set_xlabel(\"time\")\n",
        "axes[2].set_xlabel(\"time\")\n",
        "\n",
        "axes[0].set_ylabel(\"u\")\n",
        "axes[1].set_ylabel(\"i\")\n",
        "axes[2].set_ylabel(\"v\")\n",
        "\n",
        "axes[0].set_xlim(0,.2)\n",
        "axes[1].set_xlim(0,.2)\n",
        "axes[2].set_xlim(0,.2)\n",
        "\n",
        "# Setting the ylabel to '% change'\n",
        "# ... YOUR CODE FOR TASK 7 ...\n",
        "#axes[0].set_ylabel('# change')\n",
        "#axes[1].set_ylabel('% change')\n",
        "plt.suptitle('Buck--Converter')\n",
        "plt.show()\n"
      ],
      "execution_count": 0,
      "outputs": [
        {
          "output_type": "display_data",
          "data": {
            "image/png": "[encoded data removed]",
            "text/plain": [
              "<Figure size 1296x288 with 3 Axes>"
            ]
          },
          "metadata": {
            "tags": []
          }
        }
      ]
    },
    {
      "cell_type": "code",
      "metadata": {
        "id": "gvZyOIlphrAD",
        "colab_type": "code",
        "colab": {}
      },
      "source": [
        ""
      ],
      "execution_count": 0,
      "outputs": []
    }
  ]
}