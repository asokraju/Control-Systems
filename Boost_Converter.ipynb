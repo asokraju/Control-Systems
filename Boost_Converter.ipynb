{
  "nbformat": 4,
  "nbformat_minor": 0,
  "metadata": {
    "colab": {
      "name": "Boost_Converter.ipynb",
      "version": "0.3.2",
      "provenance": [],
      "include_colab_link": true
    },
    "kernelspec": {
      "name": "python3",
      "display_name": "Python 3"
    }
  },
  "cells": [
    {
      "cell_type": "markdown",
      "metadata": {
        "id": "view-in-github",
        "colab_type": "text"
      },
      "source": [
        "<a href=\"https://colab.research.google.com/github/asokraju/Control-Systems/blob/master/Boost_Converter.ipynb\" target=\"_parent\"><img src=\"https://colab.research.google.com/assets/colab-badge.svg\" alt=\"Open In Colab\"/></a>"
      ]
    },
    {
      "cell_type": "markdown",
      "metadata": {
        "id": "Lmmp8DoJiCPq",
        "colab_type": "text"
      },
      "source": [
        "# Control of boost converter\n",
        "\n",
        "In this script, we simulate the input shaping controllers proposed in [Differentiation and Passivity for Control of Brayton-Moser Systems](https://arxiv.org/abs/1811.02838)"
      ]
    },
    {
      "cell_type": "code",
      "metadata": {
        "id": "BLovZPOgjX8T",
        "colab_type": "code",
        "colab": {}
      },
      "source": [
        "import numpy as np\n",
        "import matplotlib.pyplot as plt\n",
        "from scipy.integrate import odeint\n",
        "import pandas as pd\n",
        "import seaborn as sns"
      ],
      "execution_count": 0,
      "outputs": []
    },
    {
      "cell_type": "markdown",
      "metadata": {
        "id": "z5luDeoiiD26",
        "colab_type": "text"
      },
      "source": [
        "### Boost Converter Model\n",
        "\n",
        "The dynamics of the Buck converter are:\n",
        "\\begin{align}\n",
        "-L\\dot{I} &= RI+V(1-u)-V_s\\\\\n",
        "C\\dot{V} &= I(1-u)-GV\n",
        "\\end{align}\n",
        "\n",
        "The proposed controller for this system is:\n",
        "\\begin{align}\n",
        "-k_d \\dot{u} &= k_i(u-u_d)+V\\dot{I}-\\dot{V}I\n",
        "\\end{align}\n"
      ]
    },
    {
      "cell_type": "code",
      "metadata": {
        "id": "26kikcIFiLao",
        "colab_type": "code",
        "colab": {
          "base_uri": "https://localhost:8080/",
          "height": 51
        },
        "cellView": "both",
        "outputId": "8e4ec3c2-f95f-40cb-aacf-3ffb40d7df99"
      },
      "source": [
        "#@title ##Use slider to change the parameters\n",
        "\n",
        "#@markdown ---\n",
        "\n",
        "#@markdown ###System Parameters (Units in milli).\n",
        "Capacitance = 1 #@param {type:\"slider\", min:1, max:100, step:0.1}\n",
        "Inductance = 1 #@param {type:\"slider\", min:1, max:100, step:0.1}\n",
        "\n",
        "Resistance = 0 #@param {type:\"slider\", min:0, max:100, step:0.1}\n",
        "load = 40 #@param {type:\"slider\", min:1, max:100, step:0.1}\n",
        "\n",
        "#@markdown Voltage Source.\n",
        "Vs = 280 #@param {type:\"slider\", min:100, max:500, step:10}\n",
        "\n",
        "#@markdown Desired Voltage.\n",
        "Vd = 400 #@param {type:\"slider\", min: 100, max:500, step:10}\n",
        "if Vd <= Vs:\n",
        "  print()\n",
        "#@markdown ---\n",
        "#@markdown Initial conditions.\n",
        "current = 22.5 #@param {type:\"slider\", min:-500, max:500, step:0.1}\n",
        "voltage = 100 #@param {type:\"slider\", min:0.0, max:500, step:0.1}\n",
        "duty_ratio = 0.1 #@param {type:\"slider\", min:0.01, max:0.99, step:0.01}\n",
        "#@markdown ---\n",
        "#@markdown ---\n",
        "#@markdown Simulation parameters.\n",
        "Simulation_time = 0.2 #@param {type:\"slider\", min:0.01, max:10, step:0.01}\n",
        "perturbation_time = 0.1 #@param {type:\"slider\", min:0.01, max:10, step:0.01}\n",
        "load_new = 80 #@param {type:\"slider\", min:1, max:100, step:0.1}\n",
        "\n",
        "#@markdown #### At time t = perturbation_time, the load has been changed from \n",
        "C = Capacitance*1e-3\n",
        "L = Inductance*1e-3\n",
        "R = Resistance*1e-3\n",
        "G = load*1e-3\n",
        "G_new = load_new*1e-3\n",
        "\n",
        "print('The simulation will be conducted for a total of {} milli seconds'.format(Simulation_time))\n",
        "print('At time t = {} milli seconds, the load will be changed from {} to {}'.format(perturbation_time, G, G_new))\n",
        "\n"
      ],
      "execution_count": 8,
      "outputs": [
        {
          "output_type": "stream",
          "text": [
            "The simulation will be conducted for a total of 0.2 milli seconds\n",
            "At time t = 0.1 milli seconds, the load will be changed from 0.04 to 0.08\n"
          ],
          "name": "stdout"
        }
      ]
    },
    {
      "cell_type": "code",
      "metadata": {
        "id": "n67NmcnliOsC",
        "colab_type": "code",
        "colab": {}
      },
      "source": [
        "'Simulation'\n",
        "L, C, G  = 0.001, 0.001, 0.04\n",
        "kd, ki = 1.6e5, 80e5\n",
        "Vd, Vs = 400, 280\n",
        "ud = 1-Vs/Vd\n",
        "Id = G*Vd/(1-ud)\n",
        "# function that returns dy/dt\n",
        "def model(y,t):\n",
        "  '''Models the closed loop dynamics of the boost-converter'''\n",
        "  if t>0.3:\n",
        "    'To verify the robustness we are changing the load at time t = 0.3'\n",
        "    G = 0.08\n",
        "  else:\n",
        "    G = 0.04\n",
        "  u,i,v=y[0],y[1],y[2]\n",
        "  didt = -(1/L)*(R*i+(1-u)*v-Vs)\n",
        "  dvdt = (1/C)*((1-u)*i-G*v)\n",
        "  dudt = -(1/kd)*(ki*(u-ud)+didt*v-dvdt*i)\n",
        "  dydt=[dudt, didt,dvdt]\n",
        "  return dydt\n",
        "# initial condition\n",
        "y0 = [.1,22.5,100]\n",
        "\n",
        "# time points\n",
        "t = np.linspace(0,.6,20000)\n",
        "\n",
        "# solve ODE\n",
        "y = odeint(model,y0,t)"
      ],
      "execution_count": 0,
      "outputs": []
    },
    {
      "cell_type": "code",
      "metadata": {
        "id": "ufR3ed-QjNfq",
        "colab_type": "code",
        "colab": {
          "base_uri": "https://localhost:8080/",
          "height": 308
        },
        "outputId": "46a412b0-359c-4830-c528-9d84958b1a0f"
      },
      "source": [
        "# plot results\n",
        "fig, axes = plt.subplots(nrows=1, ncols=3, figsize=(18, 4))\n",
        "axes[0].plot(t,y[:,0], color = 'darkblue')\n",
        "axes[0].plot(t,np.full(np.shape(t),ud),linestyle='dashed', color = 'red')\n",
        "axes[0].legend(['u(t)','$u_d$'])\n",
        "\n",
        "axes[1].plot(t,y[:,1], color = 'darkblue')\n",
        "def fun(time):\n",
        "  '''list comprehension to encorporate the change in the desired values'''\n",
        "  if time > .3:\n",
        "      return Vd*0.08/(1-ud)\n",
        "  else:\n",
        "      return Vd*0.04/(1-ud)\n",
        "axes[1].plot(t,[fun(time) for time in t],linestyle='dashed', color = 'red',)\n",
        "axes[1].legend(['I(t)','$I_d$'])\n",
        "\n",
        "axes[2].plot(t,y[:,2], color = 'darkblue')\n",
        "axes[2].plot(t,np.full(np.shape(t),Vd),linestyle='dashed', color = 'red',)\n",
        "axes[2].legend(['V(t)','$V_d$'])\n",
        "\n",
        "axes[0].set_title(\"Duty-ratio\")\n",
        "axes[1].set_title(\"Current\")\n",
        "axes[2].set_title(\"Voltage\")\n",
        "\n",
        "axes[0].set_xlabel(\"time\")\n",
        "axes[1].set_xlabel(\"time\")\n",
        "axes[2].set_xlabel(\"time\")\n",
        "\n",
        "axes[0].set_ylabel(\"u\")\n",
        "axes[1].set_ylabel(\"i\")\n",
        "axes[2].set_ylabel(\"v\")\n",
        "\n",
        "# Setting the ylabel to '% change'\n",
        "# ... YOUR CODE FOR TASK 7 ...\n",
        "#axes[0].set_ylabel('# change')\n",
        "#axes[1].set_ylabel('% change')\n",
        "plt.suptitle('Boost--Converter')\n",
        "plt.show()"
      ],
      "execution_count": 11,
      "outputs": [
        {
          "output_type": "display_data",
          "data": {
            "image/png": "[encoded data removed]",
            "text/plain": [
              "<Figure size 1296x288 with 3 Axes>"
            ]
          },
          "metadata": {
            "tags": []
          }
        }
      ]
    },
    {
      "cell_type": "code",
      "metadata": {
        "id": "tDNtxmiQkNTS",
        "colab_type": "code",
        "colab": {}
      },
      "source": [
        ""
      ],
      "execution_count": 0,
      "outputs": []
    }
  ]
}